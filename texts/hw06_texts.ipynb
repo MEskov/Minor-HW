{
 "cells": [
  {
   "cell_type": "markdown",
   "metadata": {
    "id": "xrvOD02o3HvH"
   },
   "source": [
    "# Домашнее задание 6: классификация текстов"
   ]
  },
  {
   "cell_type": "markdown",
   "metadata": {
    "id": "sxwj_Iie3HvJ"
   },
   "source": [
    "В этом домашнем задании вам предстоит построить классификатор текстов!\n",
    "\n",
    "Данные мы будем использовать из Kaggle соревнования: https://www.kaggle.com/competitions/nlp-getting-started/data \n",
    "\n",
    "\n",
    "Оттуда надо скачать файл train.csv. На обучающую и тестовую выборки его поделим кодом ниже, менять его не надо!"
   ]
  },
  {
   "cell_type": "markdown",
   "metadata": {
    "id": "qQVgqLg93HvJ"
   },
   "source": [
    "Мы будем работать с датасетом постов из твиттера. Нам предстоит решать задачу бинарной классификации - определять содержатся ли в твитте информация о настоящей катастрофе/инциденте или нет."
   ]
  },
  {
   "cell_type": "code",
   "execution_count": 1,
   "metadata": {
    "id": "TcjEYh7R3HvK"
   },
   "outputs": [],
   "source": [
    "import numpy as np\n",
    "import pandas as pd\n",
    "from typing import  List\n",
    "import matplotlib.pyplot as plt\n",
    "import seaborn as sns\n",
    "from string import punctuation"
   ]
  },
  {
   "cell_type": "code",
   "execution_count": 2,
   "metadata": {
    "id": "mjwffGiB3HvK"
   },
   "outputs": [],
   "source": [
    "data = pd.read_csv('train.csv')"
   ]
  },
  {
   "cell_type": "code",
   "execution_count": 3,
   "metadata": {
    "colab": {
     "base_uri": "https://localhost:8080/",
     "height": 206
    },
    "id": "v0uUoFTN3HvK",
    "outputId": "0d37d677-a00d-449c-8f86-6f85dce2ef4a",
    "scrolled": true
   },
   "outputs": [
    {
     "data": {
      "text/html": [
       "<div>\n",
       "<style scoped>\n",
       "    .dataframe tbody tr th:only-of-type {\n",
       "        vertical-align: middle;\n",
       "    }\n",
       "\n",
       "    .dataframe tbody tr th {\n",
       "        vertical-align: top;\n",
       "    }\n",
       "\n",
       "    .dataframe thead th {\n",
       "        text-align: right;\n",
       "    }\n",
       "</style>\n",
       "<table border=\"1\" class=\"dataframe\">\n",
       "  <thead>\n",
       "    <tr style=\"text-align: right;\">\n",
       "      <th></th>\n",
       "      <th>id</th>\n",
       "      <th>keyword</th>\n",
       "      <th>location</th>\n",
       "      <th>text</th>\n",
       "      <th>target</th>\n",
       "    </tr>\n",
       "  </thead>\n",
       "  <tbody>\n",
       "    <tr>\n",
       "      <th>0</th>\n",
       "      <td>1</td>\n",
       "      <td>NaN</td>\n",
       "      <td>NaN</td>\n",
       "      <td>Our Deeds are the Reason of this #earthquake M...</td>\n",
       "      <td>1</td>\n",
       "    </tr>\n",
       "    <tr>\n",
       "      <th>1</th>\n",
       "      <td>4</td>\n",
       "      <td>NaN</td>\n",
       "      <td>NaN</td>\n",
       "      <td>Forest fire near La Ronge Sask. Canada</td>\n",
       "      <td>1</td>\n",
       "    </tr>\n",
       "    <tr>\n",
       "      <th>2</th>\n",
       "      <td>5</td>\n",
       "      <td>NaN</td>\n",
       "      <td>NaN</td>\n",
       "      <td>All residents asked to 'shelter in place' are ...</td>\n",
       "      <td>1</td>\n",
       "    </tr>\n",
       "    <tr>\n",
       "      <th>3</th>\n",
       "      <td>6</td>\n",
       "      <td>NaN</td>\n",
       "      <td>NaN</td>\n",
       "      <td>13,000 people receive #wildfires evacuation or...</td>\n",
       "      <td>1</td>\n",
       "    </tr>\n",
       "    <tr>\n",
       "      <th>4</th>\n",
       "      <td>7</td>\n",
       "      <td>NaN</td>\n",
       "      <td>NaN</td>\n",
       "      <td>Just got sent this photo from Ruby #Alaska as ...</td>\n",
       "      <td>1</td>\n",
       "    </tr>\n",
       "  </tbody>\n",
       "</table>\n",
       "</div>"
      ],
      "text/plain": [
       "   id keyword location                                               text  \\\n",
       "0   1     NaN      NaN  Our Deeds are the Reason of this #earthquake M...   \n",
       "1   4     NaN      NaN             Forest fire near La Ronge Sask. Canada   \n",
       "2   5     NaN      NaN  All residents asked to 'shelter in place' are ...   \n",
       "3   6     NaN      NaN  13,000 people receive #wildfires evacuation or...   \n",
       "4   7     NaN      NaN  Just got sent this photo from Ruby #Alaska as ...   \n",
       "\n",
       "   target  \n",
       "0       1  \n",
       "1       1  \n",
       "2       1  \n",
       "3       1  \n",
       "4       1  "
      ]
     },
     "execution_count": 3,
     "metadata": {},
     "output_type": "execute_result"
    }
   ],
   "source": [
    "data.head()"
   ]
  },
  {
   "cell_type": "code",
   "execution_count": 4,
   "metadata": {
    "id": "f49NdWY23HvL"
   },
   "outputs": [],
   "source": [
    "from sklearn.model_selection import train_test_split\n",
    "\n",
    "train, test = train_test_split(data, test_size=0.3, random_state=42)"
   ]
  },
  {
   "cell_type": "markdown",
   "metadata": {
    "id": "YlLemInT3HvL"
   },
   "source": [
    "## Задание 1 (0.5 балла)\n",
    "\n",
    "Выведете на экран информацию о пропусках в данных. Если пропуски присутствуют заполните их пустой строкой."
   ]
  },
  {
   "cell_type": "code",
   "execution_count": 5,
   "metadata": {
    "id": "96aJxmkV4105",
    "scrolled": true
   },
   "outputs": [
    {
     "data": {
      "text/plain": [
       "id             0\n",
       "keyword       44\n",
       "location    1760\n",
       "text           0\n",
       "target         0\n",
       "dtype: int64"
      ]
     },
     "execution_count": 5,
     "metadata": {},
     "output_type": "execute_result"
    }
   ],
   "source": [
    "train.isnull().sum()"
   ]
  },
  {
   "cell_type": "code",
   "execution_count": 6,
   "metadata": {},
   "outputs": [
    {
     "data": {
      "text/plain": [
       "id            0\n",
       "keyword      17\n",
       "location    773\n",
       "text          0\n",
       "target        0\n",
       "dtype: int64"
      ]
     },
     "execution_count": 6,
     "metadata": {},
     "output_type": "execute_result"
    }
   ],
   "source": [
    "test.isnull().sum()"
   ]
  },
  {
   "cell_type": "code",
   "execution_count": 7,
   "metadata": {},
   "outputs": [],
   "source": [
    "test.fillna('', inplace = True)\n",
    "train.fillna('', inplace = True)"
   ]
  },
  {
   "cell_type": "code",
   "execution_count": 8,
   "metadata": {},
   "outputs": [
    {
     "data": {
      "text/html": [
       "<div>\n",
       "<style scoped>\n",
       "    .dataframe tbody tr th:only-of-type {\n",
       "        vertical-align: middle;\n",
       "    }\n",
       "\n",
       "    .dataframe tbody tr th {\n",
       "        vertical-align: top;\n",
       "    }\n",
       "\n",
       "    .dataframe thead th {\n",
       "        text-align: right;\n",
       "    }\n",
       "</style>\n",
       "<table border=\"1\" class=\"dataframe\">\n",
       "  <thead>\n",
       "    <tr style=\"text-align: right;\">\n",
       "      <th></th>\n",
       "      <th>id</th>\n",
       "      <th>keyword</th>\n",
       "      <th>location</th>\n",
       "      <th>text</th>\n",
       "      <th>target</th>\n",
       "    </tr>\n",
       "  </thead>\n",
       "  <tbody>\n",
       "    <tr>\n",
       "      <th>1186</th>\n",
       "      <td>1707</td>\n",
       "      <td>bridge%20collapse</td>\n",
       "      <td></td>\n",
       "      <td>Ashes 2015: AustraliaÛªs collapse at Trent Br...</td>\n",
       "      <td>0</td>\n",
       "    </tr>\n",
       "    <tr>\n",
       "      <th>4071</th>\n",
       "      <td>5789</td>\n",
       "      <td>hail</td>\n",
       "      <td>Carol Stream, Illinois</td>\n",
       "      <td>GREAT MICHIGAN TECHNIQUE CAMP\\nB1G THANKS TO @...</td>\n",
       "      <td>1</td>\n",
       "    </tr>\n",
       "    <tr>\n",
       "      <th>5461</th>\n",
       "      <td>7789</td>\n",
       "      <td>police</td>\n",
       "      <td>Houston</td>\n",
       "      <td>CNN: Tennessee movie theater shooting suspect ...</td>\n",
       "      <td>1</td>\n",
       "    </tr>\n",
       "    <tr>\n",
       "      <th>5787</th>\n",
       "      <td>8257</td>\n",
       "      <td>rioting</td>\n",
       "      <td></td>\n",
       "      <td>Still rioting in a couple of hours left until ...</td>\n",
       "      <td>1</td>\n",
       "    </tr>\n",
       "    <tr>\n",
       "      <th>7445</th>\n",
       "      <td>10656</td>\n",
       "      <td>wounds</td>\n",
       "      <td>Lake Highlands</td>\n",
       "      <td>Crack in the path where I wiped out this morni...</td>\n",
       "      <td>0</td>\n",
       "    </tr>\n",
       "  </tbody>\n",
       "</table>\n",
       "</div>"
      ],
      "text/plain": [
       "         id            keyword                location  \\\n",
       "1186   1707  bridge%20collapse                           \n",
       "4071   5789               hail  Carol Stream, Illinois   \n",
       "5461   7789             police                Houston    \n",
       "5787   8257            rioting                           \n",
       "7445  10656             wounds          Lake Highlands   \n",
       "\n",
       "                                                   text  target  \n",
       "1186  Ashes 2015: AustraliaÛªs collapse at Trent Br...       0  \n",
       "4071  GREAT MICHIGAN TECHNIQUE CAMP\\nB1G THANKS TO @...       1  \n",
       "5461  CNN: Tennessee movie theater shooting suspect ...       1  \n",
       "5787  Still rioting in a couple of hours left until ...       1  \n",
       "7445  Crack in the path where I wiped out this morni...       0  "
      ]
     },
     "execution_count": 8,
     "metadata": {},
     "output_type": "execute_result"
    }
   ],
   "source": [
    "train.head()"
   ]
  },
  {
   "cell_type": "markdown",
   "metadata": {
    "id": "A8CPBUal3HvL"
   },
   "source": [
    "## Задание 2 (1 балл)\n",
    "Давайте немного посмотрим на наши данные. Визуализируйте (где явно просят) или выведете информацию о следующем:\n",
    "\n",
    "1. Какое распределение классов в обучающей выборке?\n"
   ]
  },
  {
   "cell_type": "code",
   "execution_count": 9,
   "metadata": {
    "id": "WvJ_EU9o5BGm"
   },
   "outputs": [
    {
     "data": {
      "text/plain": [
       "target\n",
       "0    3024\n",
       "1    2305\n",
       "Name: id, dtype: int64"
      ]
     },
     "execution_count": 9,
     "metadata": {},
     "output_type": "execute_result"
    }
   ],
   "source": [
    "train.groupby(by = 'target').count()['id']"
   ]
  },
  {
   "cell_type": "code",
   "execution_count": 10,
   "metadata": {},
   "outputs": [
    {
     "data": {
      "text/plain": [
       "<AxesSubplot:xlabel='target', ylabel='count'>"
      ]
     },
     "execution_count": 10,
     "metadata": {},
     "output_type": "execute_result"
    },
    {
     "data": {
      "image/png": "[encoded data removed]",
      "text/plain": [
       "<Figure size 700x400 with 1 Axes>"
      ]
     },
     "metadata": {},
     "output_type": "display_data"
    }
   ],
   "source": [
    "colour = {1 : 'g', 0 : 'r' }\n",
    "sns.set_context({'xtick.labelsize': 7,\n",
    "                 'ytick.labelsize': 7,\n",
    "                 'figure.figsize': (7, 4),\n",
    "                 'patch.linewidth': 0.0\n",
    "                })\n",
    "sns.countplot(x=\"target\", data=train, palette = colour)\n"
   ]
  },
  {
   "cell_type": "markdown",
   "metadata": {
    "id": "f08KScbP5q2y"
   },
   "source": [
    "2. Посмотрите на колонку \"keyword\" - возьмите 10 наиболее встречающихся значений, постройте ступенчатую диаграмму распределения классов в зависимости от значения keyword, сделайте выводы."
   ]
  },
  {
   "cell_type": "code",
   "execution_count": 11,
   "metadata": {
    "id": "WSCb0htu5w_Y",
    "scrolled": false
   },
   "outputs": [
    {
     "data": {
      "text/plain": [
       "['damage',\n",
       " 'siren',\n",
       " 'wreckage',\n",
       " 'fatalities',\n",
       " 'deluge',\n",
       " 'nuclear%20reactor',\n",
       " 'derail',\n",
       " 'emergency',\n",
       " 'fatality',\n",
       " 'fear']"
      ]
     },
     "execution_count": 11,
     "metadata": {},
     "output_type": "execute_result"
    }
   ],
   "source": [
    "popular_keywords = list(train.groupby(by = 'keyword').count().sort_values(by = 'id', ascending = False).head(11).index[1:])\n",
    "popular_keywords"
   ]
  },
  {
   "cell_type": "code",
   "execution_count": 12,
   "metadata": {
    "scrolled": false
   },
   "outputs": [
    {
     "data": {
      "text/plain": [
       "<AxesSubplot:xlabel='keyword', ylabel='Count'>"
      ]
     },
     "execution_count": 12,
     "metadata": {},
     "output_type": "execute_result"
    },
    {
     "data": {
      "image/png": "[encoded data removed]",
      "text/plain": [
       "<Figure size 1200x400 with 1 Axes>"
      ]
     },
     "metadata": {},
     "output_type": "display_data"
    }
   ],
   "source": [
    "sns.set(style = 'white', rc={\"figure.figsize\":( 12 , 4 ), 'xtick.labelsize': 9})\n",
    "sns.histplot(data = train[train['keyword'].isin(popular_keywords)], x=\"keyword\", hue = 'target', fill = True, \n",
    "             multiple = 'layer')"
   ]
  },
  {
   "cell_type": "markdown",
   "metadata": {
    "id": "l4al3g9E-P09"
   },
   "source": [
    "**Выводы**: Большой перевес в 0 класс у слов 'siren', 'deluge', 'fear', 'fatality', во второй класс у 'wreckage', остальные же отличаются несильно"
   ]
  },
  {
   "cell_type": "markdown",
   "metadata": {
    "id": "c006nNBP3HvM"
   },
   "source": [
    "## Задание 3 (0.5 балла) \n",
    "\n",
    "В этом задании предлагается объединить все три текстовых столбца в один (просто сконкатенировать cтроки) и убрать столбец с индексом."
   ]
  },
  {
   "cell_type": "code",
   "execution_count": 13,
   "metadata": {
    "colab": {
     "base_uri": "https://localhost:8080/",
     "height": 143
    },
    "id": "GdF9gFmL-c0r",
    "outputId": "ebe008b7-4d0e-4bc2-89f3-60a575c1b1fd",
    "scrolled": true
   },
   "outputs": [
    {
     "data": {
      "text/html": [
       "<div>\n",
       "<style scoped>\n",
       "    .dataframe tbody tr th:only-of-type {\n",
       "        vertical-align: middle;\n",
       "    }\n",
       "\n",
       "    .dataframe tbody tr th {\n",
       "        vertical-align: top;\n",
       "    }\n",
       "\n",
       "    .dataframe thead th {\n",
       "        text-align: right;\n",
       "    }\n",
       "</style>\n",
       "<table border=\"1\" class=\"dataframe\">\n",
       "  <thead>\n",
       "    <tr style=\"text-align: right;\">\n",
       "      <th></th>\n",
       "      <th>id</th>\n",
       "      <th>keyword</th>\n",
       "      <th>location</th>\n",
       "      <th>text</th>\n",
       "      <th>target</th>\n",
       "    </tr>\n",
       "  </thead>\n",
       "  <tbody>\n",
       "    <tr>\n",
       "      <th>6590</th>\n",
       "      <td>9436</td>\n",
       "      <td>survivors</td>\n",
       "      <td>Marietta, GA</td>\n",
       "      <td>Stemming from my #Cubs talk- the team rosters ...</td>\n",
       "      <td>1</td>\n",
       "    </tr>\n",
       "    <tr>\n",
       "      <th>7122</th>\n",
       "      <td>10203</td>\n",
       "      <td>violent%20storm</td>\n",
       "      <td></td>\n",
       "      <td>If you were the NWS wth a rotating storm w/ a ...</td>\n",
       "      <td>1</td>\n",
       "    </tr>\n",
       "    <tr>\n",
       "      <th>2769</th>\n",
       "      <td>3980</td>\n",
       "      <td>devastation</td>\n",
       "      <td>Atlanta g.a.</td>\n",
       "      <td>http://t.co/Gxgm1T3W0J From Devastation to Ela...</td>\n",
       "      <td>0</td>\n",
       "    </tr>\n",
       "  </tbody>\n",
       "</table>\n",
       "</div>"
      ],
      "text/plain": [
       "         id          keyword      location  \\\n",
       "6590   9436        survivors  Marietta, GA   \n",
       "7122  10203  violent%20storm                 \n",
       "2769   3980      devastation  Atlanta g.a.   \n",
       "\n",
       "                                                   text  target  \n",
       "6590  Stemming from my #Cubs talk- the team rosters ...       1  \n",
       "7122  If you were the NWS wth a rotating storm w/ a ...       1  \n",
       "2769  http://t.co/Gxgm1T3W0J From Devastation to Ela...       0  "
      ]
     },
     "execution_count": 13,
     "metadata": {},
     "output_type": "execute_result"
    }
   ],
   "source": [
    "train.loc[[6590, 7122, 2769]]"
   ]
  },
  {
   "cell_type": "code",
   "execution_count": 14,
   "metadata": {
    "id": "lwwJKX_l-eoh"
   },
   "outputs": [],
   "source": [
    "train_new = pd.DataFrame({'text': train['keyword'] + ' ' +train['location'] + ' ' + train['text'], 'target' : train['target']})"
   ]
  },
  {
   "cell_type": "code",
   "execution_count": 15,
   "metadata": {
    "colab": {
     "base_uri": "https://localhost:8080/",
     "height": 143
    },
    "id": "jk7P70XX_CpT",
    "outputId": "5cf01b29-8ada-46d7-f7ee-74e7aed37996"
   },
   "outputs": [
    {
     "data": {
      "text/html": [
       "<div>\n",
       "<style scoped>\n",
       "    .dataframe tbody tr th:only-of-type {\n",
       "        vertical-align: middle;\n",
       "    }\n",
       "\n",
       "    .dataframe tbody tr th {\n",
       "        vertical-align: top;\n",
       "    }\n",
       "\n",
       "    .dataframe thead th {\n",
       "        text-align: right;\n",
       "    }\n",
       "</style>\n",
       "<table border=\"1\" class=\"dataframe\">\n",
       "  <thead>\n",
       "    <tr style=\"text-align: right;\">\n",
       "      <th></th>\n",
       "      <th>text</th>\n",
       "      <th>target</th>\n",
       "    </tr>\n",
       "  </thead>\n",
       "  <tbody>\n",
       "    <tr>\n",
       "      <th>6590</th>\n",
       "      <td>survivors Marietta, GA Stemming from my #Cubs ...</td>\n",
       "      <td>1</td>\n",
       "    </tr>\n",
       "    <tr>\n",
       "      <th>7122</th>\n",
       "      <td>violent%20storm  If you were the NWS wth a rot...</td>\n",
       "      <td>1</td>\n",
       "    </tr>\n",
       "    <tr>\n",
       "      <th>2769</th>\n",
       "      <td>devastation Atlanta g.a. http://t.co/Gxgm1T3W0...</td>\n",
       "      <td>0</td>\n",
       "    </tr>\n",
       "  </tbody>\n",
       "</table>\n",
       "</div>"
      ],
      "text/plain": [
       "                                                   text  target\n",
       "6590  survivors Marietta, GA Stemming from my #Cubs ...       1\n",
       "7122  violent%20storm  If you were the NWS wth a rot...       1\n",
       "2769  devastation Atlanta g.a. http://t.co/Gxgm1T3W0...       0"
      ]
     },
     "execution_count": 15,
     "metadata": {},
     "output_type": "execute_result"
    }
   ],
   "source": [
    "train_new.loc[[6590, 7122, 2769]]"
   ]
  },
  {
   "cell_type": "markdown",
   "metadata": {
    "id": "ViXdGTxP3HvM"
   },
   "source": [
    "## Задание 4 (0.5 балла)\n",
    "\n",
    "Далее мы будем пока работать только с train частью.\n",
    "\n",
    "1. Предобработайте данные (train часть) с помощью CountVectorizer.\n",
    "2. Какого размера получилась матрица?\n"
   ]
  },
  {
   "cell_type": "code",
   "execution_count": 16,
   "metadata": {
    "id": "oB1MTqUVAbPA"
   },
   "outputs": [
    {
     "data": {
      "text/plain": [
       "<5329x18455 sparse matrix of type '<class 'numpy.int64'>'\n",
       "\twith 86671 stored elements in Compressed Sparse Row format>"
      ]
     },
     "execution_count": 16,
     "metadata": {},
     "output_type": "execute_result"
    }
   ],
   "source": [
    "from sklearn.feature_extraction.text import CountVectorizer\n",
    "\n",
    "vectorizer = CountVectorizer()\n",
    "X = vectorizer.fit_transform(train_new['text'])\n",
    "X"
   ]
  },
  {
   "cell_type": "markdown",
   "metadata": {},
   "source": [
    "Размер: 5329x18455"
   ]
  },
  {
   "cell_type": "markdown",
   "metadata": {
    "id": "A4waLlnC3HvM"
   },
   "source": [
    "## Задание 5 (1 балл)\n",
    "\n",
    "В предыдущем пункте у вас должна была получиться достаточно большая матрица.\n",
    "Если вы взгляните на текст, то увидете, что там есть множество специальных символов, ссылок и прочего мусора.\n",
    "\n",
    "Давайте также посмотрим на словарь, который получился в результате построения CountVectorizer, его можно найти в поле vocabulary_ синстанса этого класса. Давайте напишем функцию, которая печает ответы на следующие вопросы:\n",
    "\n",
    "1. Найдите в этом словаре все слова, которые содержат цифры. Сколько таких слов нашлось?\n",
    "\n",
    "2. Найдите все слова, которые содержат символы пунктуации. Сколько таких слов нашлось? \n",
    "\n",
    "3. Сколько хэштегов (токен начинается на #) и упоминаний (токен начинается на @) осталось в словаре?"
   ]
  },
  {
   "cell_type": "code",
   "execution_count": 17,
   "metadata": {
    "id": "7PhQSWqcHhU8"
   },
   "outputs": [],
   "source": [
    "def contains_digit(s: str) -> bool:\n",
    "    for i in s:\n",
    "        if i.isnumeric():\n",
    "            return True\n",
    "    else:\n",
    "        return False\n",
    "\n",
    "def contains_punctuation(s: str) -> bool:\n",
    "    punc = ['.', '?', ',', '!', ';', '\"', ':', '-', ')', '(']\n",
    "    for i in s:\n",
    "        if i in punctuation:\n",
    "            return True\n",
    "    return False\n",
    "\n",
    "def is_hashtag(s: str) -> bool:\n",
    "    if s[0] == '#':\n",
    "        return True\n",
    "    return False\n",
    "\n",
    "def is_mention(s: str) -> bool:\n",
    "    if s[0] == '@':\n",
    "        return True\n",
    "    return False\n",
    "\n",
    "def investigate_vocabulary(vocabulary):\n",
    "    # -- YOUR CODE HERE --\n",
    "    print('With digit:      ', sum([contains_digit(i) for i in vocabulary.keys()])\n",
    "          )\n",
    "    print('With punctuation:', sum([contains_punctuation(i) for i in vocabulary.keys()])\n",
    "          )\n",
    "    print('Hashtags:        ', sum([is_hashtag(i) for i in vocabulary.keys()])\n",
    "          )\n",
    "    print('Mentions:        ', sum([is_mention(i) for i in vocabulary.keys()])\n",
    "          )\n",
    "\n",
    "\n"
   ]
  },
  {
   "cell_type": "code",
   "execution_count": 18,
   "metadata": {
    "colab": {
     "base_uri": "https://localhost:8080/"
    },
    "id": "s8hL5ZcQIdp6",
    "outputId": "c8b50455-38f2-455d-c9f6-96b03a7e09ce"
   },
   "outputs": [
    {
     "name": "stdout",
     "output_type": "stream",
     "text": [
      "With digit:       2\n",
      "With punctuation: 7\n",
      "Hashtags:         1\n",
      "Mentions:         3\n"
     ]
    }
   ],
   "source": [
    "dummy_vocab = {'th1nk' : 0,\n",
    "               'think333' : 1,\n",
    "               'think.' : 2,\n",
    "               'th!nk' : 3,\n",
    "               'th...nk' : 4,\n",
    "               '#think' : 5,\n",
    "               '@think' : 6,\n",
    "               '@thinking':7,\n",
    "               '@nothink' : 8,\n",
    "               'think' : 9}\n",
    "investigate_vocabulary(dummy_vocab)"
   ]
  },
  {
   "cell_type": "code",
   "execution_count": 19,
   "metadata": {
    "id": "VpW8R_SuKR_l"
   },
   "outputs": [
    {
     "name": "stdout",
     "output_type": "stream",
     "text": [
      "With digit:       3815\n",
      "With punctuation: 315\n",
      "Hashtags:         0\n",
      "Mentions:         0\n"
     ]
    }
   ],
   "source": [
    "investigate_vocabulary(vectorizer.vocabulary_\n",
    "                       )"
   ]
  },
  {
   "cell_type": "markdown",
   "metadata": {
    "id": "bfNLaxX93HvM"
   },
   "source": [
    "## Задание 6 (0.5 балла)\n",
    "\n",
    "Вспомним, что на семинаре по текстам мы узнали, что в nltk есть специальный токенизатор для текстов - TweetTokenizer. Попробуем применить CountVectorizer с этим токенизатором. Ответьте на все вопросы из предыдущего пункта для TweetTokenizer и сравните результаты."
   ]
  },
  {
   "cell_type": "code",
   "execution_count": 20,
   "metadata": {
    "id": "xnlRoXUS3HvM"
   },
   "outputs": [],
   "source": [
    "from nltk.tokenize import TweetTokenizer\n",
    "# Чтобы узнать, какие параметры есть у этого токенайзера - используйте help(TweetTokenizer)\n",
    "# Для того, чтобы передать токенайзер в CountVectorizer используйте параметр tokenizer"
   ]
  },
  {
   "cell_type": "code",
   "execution_count": 21,
   "metadata": {
    "id": "8lPMIf6UKccT"
   },
   "outputs": [
    {
     "data": {
      "text/plain": [
       "<5329x19670 sparse matrix of type '<class 'numpy.int64'>'\n",
       "\twith 94563 stored elements in Compressed Sparse Row format>"
      ]
     },
     "execution_count": 21,
     "metadata": {},
     "output_type": "execute_result"
    }
   ],
   "source": [
    "tknzr = TweetTokenizer()\n",
    "vect = CountVectorizer(tokenizer = tknzr.tokenize)\n",
    "vect.fit_transform(train_new['text'])"
   ]
  },
  {
   "cell_type": "code",
   "execution_count": 22,
   "metadata": {
    "id": "7oR5kNKVLLpm"
   },
   "outputs": [
    {
     "name": "stdout",
     "output_type": "stream",
     "text": [
      "With digit:       3940\n",
      "With punctuation: 7338\n",
      "Hashtags:         1470\n",
      "Mentions:         1679\n"
     ]
    }
   ],
   "source": [
    "investigate_vocabulary(vect.vocabulary_\n",
    "                       )"
   ]
  },
  {
   "cell_type": "markdown",
   "metadata": {
    "id": "Wetr80-ILULV"
   },
   "source": [
    "**Сравнение:** этот токенизатор справился намного лучше, в словаре появились упоминания и хэштеги, что может помочь в дальнейшем."
   ]
  },
  {
   "cell_type": "markdown",
   "metadata": {
    "id": "6_k_-i1x3HvM"
   },
   "source": [
    "## Задание 7 (2 балла)\n",
    "\n",
    "В scikit-learn мы можем оценивать процесс подсчета матрицы через CountVectorizer. У CountVectorizer, как и у других наследников \\_VectorizerMixin, есть аргумент tokenizer и preprocessor. preprocessor применится в самом начале к каждой строке вашего датасета, tokenizer же должен принять строку и вернуть токены.\n",
    "Давайте напишем кастомный токенайзер, которые сделает все, что нам нужно: \n",
    "\n",
    "0. Приведет все буквы к нижнему регистру\n",
    "1. Разобьет текст на токены с помощью TweetTokenizer из пакета nltk\n",
    "2. Удалит все токены содержащие не латинские буквы, кроме смайликов (будем считать ими токены содержащие только пунктуацию и, как минимум, одну скобочку) и хэштегов, которые после начальной # содержат только латинские буквы.\n",
    "3. Удалит все токены, которые перечислены в nltk.corpus.stopwords.words('english')\n",
    "4. Проведет стемминг с помощью SnowballStemmer\n",
    "\n"
   ]
  },
  {
   "cell_type": "code",
   "execution_count": 23,
   "metadata": {},
   "outputs": [
    {
     "name": "stderr",
     "output_type": "stream",
     "text": [
      "[nltk_data] Downloading package stopwords to\n",
      "[nltk_data]     C:\\Users\\user\\AppData\\Roaming\\nltk_data...\n",
      "[nltk_data]   Package stopwords is already up-to-date!\n"
     ]
    },
    {
     "data": {
      "text/plain": [
       "True"
      ]
     },
     "execution_count": 23,
     "metadata": {},
     "output_type": "execute_result"
    }
   ],
   "source": [
    "import nltk\n",
    "nltk.download('stopwords')"
   ]
  },
  {
   "cell_type": "code",
   "execution_count": 24,
   "metadata": {},
   "outputs": [],
   "source": [
    "import snowballstemmer\n",
    "from nltk.corpus import stopwords"
   ]
  },
  {
   "cell_type": "code",
   "execution_count": 25,
   "metadata": {
    "id": "qhwmi7DEMD25"
   },
   "outputs": [],
   "source": [
    "def contains_only_latin_letters(s: str) -> bool:\n",
    "    l = range(65, 123)\n",
    "    r = range(91, 97)\n",
    "    for i in s:\n",
    "        if ord(i) not in l or ord(i) in r:\n",
    "            return False\n",
    "    return True\n",
    "\n",
    "def is_emoji(s: str) -> bool:\n",
    "    for i in s:\n",
    "        if i not in punctuation:\n",
    "            return False\n",
    "    if ('(' in s or ')' in s):\n",
    "        return True\n",
    "    return False\n",
    "\n",
    "def is_hashtag(s: str) -> bool:\n",
    "    return s[0] == '#' and contains_only_latin_letters(s[1:])\n",
    "\n",
    "def custom_tokenizer(s: str) -> List[str]: \n",
    "    tk = TweetTokenizer()\n",
    "    x = tk.tokenize(s.lower())\n",
    "    l = []\n",
    "    for i in x:\n",
    "        if i not in stopwords.words('english'):\n",
    "            if contains_only_latin_letters(i):\n",
    "                l.append(i)\n",
    "            elif is_emoji(i) or is_hashtag(i):\n",
    "                l.append(i)\n",
    "    stemmer = snowballstemmer.stemmer('english')\n",
    "    return stemmer.stemWords(l)\n",
    "  "
   ]
  },
  {
   "cell_type": "code",
   "execution_count": 26,
   "metadata": {
    "colab": {
     "base_uri": "https://localhost:8080/"
    },
    "id": "vYzPZzf8O6vj",
    "outputId": "b1107f8a-eef7-49f7-8ed3-910be791d645"
   },
   "outputs": [
    {
     "data": {
      "text/plain": [
       "['love', 'paint', ':-)', '#art']"
      ]
     },
     "execution_count": 26,
     "metadata": {},
     "output_type": "execute_result"
    }
   ],
   "source": [
    "custom_tokenizer('She LOVES painting :-) #art')"
   ]
  },
  {
   "cell_type": "markdown",
   "metadata": {
    "id": "2S_-ThAf5It4"
   },
   "source": [
    "Продемонстрируйте работу вашей функции на первых десяти текстах в обучающей выборке."
   ]
  },
  {
   "cell_type": "code",
   "execution_count": 27,
   "metadata": {
    "id": "A1fh3_itPz7D",
    "scrolled": true
   },
   "outputs": [
    {
     "name": "stdout",
     "output_type": "stream",
     "text": [
      "['hail', 'carol', 'stream', 'illinoi', 'great', 'michigan', 'tec', 'name', 'text', 'dtype', 'object']\n",
      "['polic', 'houston', 'cnn', 'tennesse', 'movi', 'theater', 'name', 'text', 'dtype', 'object']\n",
      "['riot', 'still', 'riot', 'coupl', 'hour', 'le', 'name', 'text', 'dtype', 'object']\n",
      "['wound', 'lake', 'highland', 'crack', 'path', 'name', 'text', 'dtype', 'object']\n",
      "['airplan', 'somewher', 'expert', 'name', 'text', 'dtype', 'object']\n",
      "['bloodi', 'isol', 'citi', 'world', 'perth', 'came', 'name', 'text', 'dtype', 'object']\n",
      "['burn', 'except', 'idk', 'name', 'text', 'dtype', 'object']\n",
      "['destroy', '(', 'ask', ')', 'destroy', 'hous', 'name', 'text', 'dtype', 'object']\n",
      "['wound', 'maracay', 'nirgua', 'venezuela', 'polic', 'name', 'text', 'dtype', 'object']\n",
      "['wreck', 'current', 'write', 'book', 'friggi', 'name', 'text', 'dtype', 'object']\n"
     ]
    }
   ],
   "source": [
    "for i in range(1,11):\n",
    "    print(custom_tokenizer(str(train_new.loc[[train_new.index[i]]]['text'])))"
   ]
  },
  {
   "cell_type": "markdown",
   "metadata": {
    "id": "a5lNZ4tb3HvN"
   },
   "source": [
    "## Задание 8 (1 балл)\n",
    "\n",
    "1. Примените CountVectorizer с реализованным выше токенизатором к обучающим и тестовым выборкам.\n"
   ]
  },
  {
   "cell_type": "code",
   "execution_count": 28,
   "metadata": {},
   "outputs": [],
   "source": [
    "vectorizer = CountVectorizer(tokenizer = custom_tokenizer)\n",
    "bow = vectorizer.fit_transform(train_new['text'])"
   ]
  },
  {
   "cell_type": "markdown",
   "metadata": {
    "id": "YcetwuEi5ds9"
   },
   "source": [
    "2. Обучите LogisticRegression на полученных признаках.\n"
   ]
  },
  {
   "cell_type": "code",
   "execution_count": 29,
   "metadata": {},
   "outputs": [],
   "source": [
    "from sklearn.preprocessing import MaxAbsScaler\n",
    "from sklearn.metrics import f1_score"
   ]
  },
  {
   "cell_type": "code",
   "execution_count": 30,
   "metadata": {
    "id": "BVj03QV2QbWl"
   },
   "outputs": [],
   "source": [
    "from sklearn.linear_model import LogisticRegression\n",
    "test_new = pd.DataFrame({'text': test['keyword'] + ' ' +test['location'] + ' ' + test['text'], 'target' : test['target']})\n",
    "bow_test = vectorizer.transform(test_new['text'])\n",
    "\n",
    "\n",
    "clf = LogisticRegression(max_iter=200, random_state=42)\n",
    "clf.fit(bow, train_new['target'])\n",
    "pred = clf.predict(bow_test)"
   ]
  },
  {
   "cell_type": "markdown",
   "metadata": {
    "id": "6Ch6uz2P5e-T"
   },
   "source": [
    "3. Посчитайте метрику f1-score на тестовых данных."
   ]
  },
  {
   "cell_type": "code",
   "execution_count": 31,
   "metadata": {},
   "outputs": [
    {
     "name": "stdout",
     "output_type": "stream",
     "text": [
      "F1 score: 0.7533584094572812\n"
     ]
    }
   ],
   "source": [
    "from sklearn.metrics import f1_score\n",
    "\n",
    "print('F1 score:', f1_score(test_new['target'], pred))"
   ]
  },
  {
   "cell_type": "markdown",
   "metadata": {
    "id": "aFIEYOMZ3HvN"
   },
   "source": [
    "## Задание 9 (1 балл)\n",
    "\n",
    "1. Повторите 8 задание, но с tf-idf векторизатором. Как изменилось качество?\n"
   ]
  },
  {
   "cell_type": "code",
   "execution_count": 32,
   "metadata": {},
   "outputs": [
    {
     "name": "stdout",
     "output_type": "stream",
     "text": [
      "F1 score: 0.7422222222222221\n"
     ]
    }
   ],
   "source": [
    "from sklearn.feature_extraction.text import TfidfVectorizer\n",
    "from sklearn.preprocessing import StandardScaler\n",
    "\n",
    "\n",
    "tfidf_vec = TfidfVectorizer(tokenizer = custom_tokenizer)\n",
    "X = tfidf_vec.fit_transform(train_new['text'])\n",
    "tfidf_test = tfidf_vec.transform(test_new['text'])\n",
    "\n",
    "#scaler = MaxAbsScaler()\n",
    "#scaler.fit(X)\n",
    "#X = scaler.transform(X)\n",
    "#tfidf_test = scaler.transform(tfidf_test)\n",
    "\n",
    "clf = LogisticRegression(max_iter=200, random_state=42)\n",
    "clf.fit(X, train_new['target'])\n",
    "pred = clf.predict(tfidf_test)\n",
    "print('F1 score:', f1_score(test_new['target'], pred))"
   ]
  },
  {
   "cell_type": "markdown",
   "metadata": {
    "id": "SXaNclTZSFjO"
   },
   "source": [
    "1. **Ответ:** качество модели упало"
   ]
  },
  {
   "cell_type": "markdown",
   "metadata": {
    "id": "CPtk0lCA5POY"
   },
   "source": [
    "2. Мы можем еще сильнее уменьшить размер нашей матрицы, если отбросим значения df близкие к единице. Скорее всего такие слова не несут много информации о категории, так как встречаются достаточно часто. Ограничьте максимальный df в параметрах TfIdfVectorizer, поставьте верхнюю границу равную 0.9. Как изменился размер матрицы, как изменилось качество?\n"
   ]
  },
  {
   "cell_type": "code",
   "execution_count": 33,
   "metadata": {
    "colab": {
     "base_uri": "https://localhost:8080/"
    },
    "id": "EU-MRXyRSHLm",
    "outputId": "6b5353a8-5f3b-4220-fcd4-64eecfe20054"
   },
   "outputs": [
    {
     "name": "stdout",
     "output_type": "stream",
     "text": [
      "F1 score: 0.7422222222222221\n"
     ]
    }
   ],
   "source": [
    "tfidf_vec = TfidfVectorizer(max_df=0.9,tokenizer = custom_tokenizer )\n",
    "X = tfidf_vec.fit_transform(train_new['text'])\n",
    "tfidf_test = tfidf_vec.transform(test_new['text'])\n",
    "\n",
    "#scaler = MaxAbsScaler()\n",
    "#scaler.fit(X)\n",
    "#X = scaler.transform(X)\n",
    "#tfidf_test = scaler.transform(tfidf_test)\n",
    "\n",
    "clf = LogisticRegression(max_iter=200, random_state=42)\n",
    "clf.fit(X, train_new['target'])\n",
    "pred = clf.predict(tfidf_test)\n",
    "print('F1 score:', f1_score(test_new['target'], pred))"
   ]
  },
  {
   "cell_type": "markdown",
   "metadata": {
    "id": "4Two_O3rSVmh"
   },
   "source": [
    "2. **Ответ:** Качество модели не изменилось"
   ]
  },
  {
   "cell_type": "markdown",
   "metadata": {
    "id": "VhyjbI5X5QnG"
   },
   "source": [
    "3. Также мы можем уменьшить размер матрицы, удаляя слова со слишком маленьким df. Удалось ли добиться улучшения качества? "
   ]
  },
  {
   "cell_type": "code",
   "execution_count": 34,
   "metadata": {
    "colab": {
     "base_uri": "https://localhost:8080/"
    },
    "id": "9mNpIxv6SfKc",
    "outputId": "607ec22e-1fdb-4c29-bbc4-6447ed266349"
   },
   "outputs": [
    {
     "name": "stdout",
     "output_type": "stream",
     "text": [
      "F1 score: 0.6288361320208454\n"
     ]
    }
   ],
   "source": [
    "tfidf_vec = TfidfVectorizer(min_df=0.01, max_df = 0.99, tokenizer = custom_tokenizer)\n",
    "X = tfidf_vec.fit_transform(train_new['text'])\n",
    "tfidf_test = tfidf_vec.transform(test_new['text'])\n",
    "\n",
    "#scaler = MaxAbsScaler()\n",
    "#scaler.fit(X)\n",
    "#X = scaler.transform(X)\n",
    "#tfidf_test = scaler.transform(tfidf_test)\n",
    "\n",
    "clf = LogisticRegression(max_iter=400, random_state=42)\n",
    "clf.fit(X, train_new['target'])\n",
    "pred = clf.predict(tfidf_test)\n",
    "print('F1 score:', f1_score(test_new['target'], pred))"
   ]
  },
  {
   "cell_type": "markdown",
   "metadata": {
    "id": "imeD8skxSqdg"
   },
   "source": [
    "3. **Ответ:** Улучшений добиться не получилось"
   ]
  },
  {
   "cell_type": "markdown",
   "metadata": {
    "id": "1l1sx4nB3HvN"
   },
   "source": [
    "## Задание 10 (1 балл)\n",
    "\n",
    "Еще один популяпный трюк, который позволит уменьшить количество признаков называется hashing trick. Его суть в том, то мы случайно группируем признаки ииии  ..... складываем их! А потом удаляем исходные признаки. В итоге все наши признаки это просто суммы исходных. Звучит странно, но это отлично работает. Давайте проверим этот трюк в нашем сеттинге.\n",
    "Также при таком подходе вам не нужно хранить словарь token->index, что тоже иногда полезно.\n",
    "\n",
    "1. Повторите задание 8 с HashingVectorizer, укажите количество фичей равное 5000.\n"
   ]
  },
  {
   "cell_type": "code",
   "execution_count": 35,
   "metadata": {},
   "outputs": [
    {
     "name": "stderr",
     "output_type": "stream",
     "text": [
      "C:\\Users\\user\\anaconda3\\lib\\site-packages\\sklearn\\feature_extraction\\text.py:516: UserWarning: The parameter 'token_pattern' will not be used since 'tokenizer' is not None'\n",
      "  warnings.warn(\n"
     ]
    },
    {
     "name": "stdout",
     "output_type": "stream",
     "text": [
      "F1 score: 0.7190635451505016\n"
     ]
    }
   ],
   "source": [
    "from sklearn.feature_extraction.text import HashingVectorizer\n",
    "\n",
    "vectorizer = HashingVectorizer(n_features=5000, tokenizer = custom_tokenizer)\n",
    "hv = vectorizer.fit_transform(train_new['text'])\n",
    "hv_test = vectorizer.transform(test_new['text'])\n",
    "\n",
    "\n",
    "clf = LogisticRegression(max_iter=400, random_state=42)\n",
    "clf.fit(hv, train_new['target'])\n",
    "pred = clf.predict(hv_test)\n",
    "print('F1 score:', f1_score(test_new['target'], pred))"
   ]
  },
  {
   "cell_type": "markdown",
   "metadata": {
    "id": "1C3I4ceg6AG-"
   },
   "source": [
    "2. Какой из подходов показал самый высокий результат?"
   ]
  },
  {
   "cell_type": "markdown",
   "metadata": {
    "id": "_bIfyVlOS9Lu"
   },
   "source": [
    "2. **Ответ:** Лучший результат показал подход в задании 8, но f1 мера у всех подходов оказалось примерно около 0.75, только у `HashingVectorizer` отличалось хоть как-то значимо (если не брать в расчёт задание 9.3)"
   ]
  },
  {
   "cell_type": "markdown",
   "metadata": {
    "id": "zylJ6l0R3HvN"
   },
   "source": [
    "## Задание 11 (1 балл)\n",
    "\n",
    "В этом задании нужно добиться f1 меры хотя в 0.75 на тестовых данных."
   ]
  },
  {
   "cell_type": "markdown",
   "metadata": {
    "id": "GSTVApFeS-OY"
   },
   "source": [
    "См. задание №8 или вот:"
   ]
  },
  {
   "cell_type": "code",
   "execution_count": 36,
   "metadata": {},
   "outputs": [
    {
     "name": "stdout",
     "output_type": "stream",
     "text": [
      "F1 score: 0.7533729087965461\n"
     ]
    }
   ],
   "source": [
    "vec = CountVectorizer()\n",
    "bow = vec.fit_transform(train_new['text'])  # bow — bag of words (мешок слов)\n",
    "bow_test = vec.transform(test_new['text'])\n",
    "\n",
    "#scaler = MaxAbsScaler()\n",
    "#bow = scaler.fit_transform(bow)\n",
    "#bow_test = scaler.transform(bow_test)\n",
    "\n",
    "clf = LogisticRegression(max_iter=200, random_state=42)\n",
    "clf.fit(bow, train_new['target'])\n",
    "pred = clf.predict(bow_test)\n",
    "print('F1 score:', f1_score(test_new['target'], pred))"
   ]
  },
  {
   "cell_type": "markdown",
   "metadata": {},
   "source": [
    "В нашей задаче масштабирование признаков (пробовал различные Scaler'ы) только ухудшает качество моделей. Как и наш токенизатор."
   ]
  }
 ],
 "metadata": {
  "colab": {
   "collapsed_sections": [
    "YlLemInT3HvL",
    "A8CPBUal3HvL"
   ],
   "provenance": []
  },
  "kernelspec": {
   "display_name": "Python 3 (ipykernel)",
   "language": "python",
   "name": "python3"
  },
  "language_info": {
   "codemirror_mode": {
    "name": "ipython",
    "version": 3
   },
   "file_extension": ".py",
   "mimetype": "text/x-python",
   "name": "python",
   "nbconvert_exporter": "python",
   "pygments_lexer": "ipython3",
   "version": "3.9.13"
  }
 },
 "nbformat": 4,
 "nbformat_minor": 1
}
